{
 "cells": [
  {
   "cell_type": "code",
   "execution_count": 88,
   "id": "85d548f6",
   "metadata": {},
   "outputs": [
    {
     "name": "stdout",
     "output_type": "stream",
     "text": [
      "Representation of the data: \n"
     ]
    },
    {
     "data": {
      "text/html": [
       "<div>\n",
       "<style scoped>\n",
       "    .dataframe tbody tr th:only-of-type {\n",
       "        vertical-align: middle;\n",
       "    }\n",
       "\n",
       "    .dataframe tbody tr th {\n",
       "        vertical-align: top;\n",
       "    }\n",
       "\n",
       "    .dataframe thead th {\n",
       "        text-align: right;\n",
       "    }\n",
       "</style>\n",
       "<table border=\"1\" class=\"dataframe\">\n",
       "  <thead>\n",
       "    <tr style=\"text-align: right;\">\n",
       "      <th></th>\n",
       "      <th>longitude</th>\n",
       "      <th>latitude</th>\n",
       "      <th>housing_median_age</th>\n",
       "      <th>total_rooms</th>\n",
       "      <th>total_bedrooms</th>\n",
       "      <th>population</th>\n",
       "      <th>households</th>\n",
       "      <th>median_income</th>\n",
       "      <th>median_house_value</th>\n",
       "    </tr>\n",
       "  </thead>\n",
       "  <tbody>\n",
       "    <tr>\n",
       "      <th>0</th>\n",
       "      <td>-114.31</td>\n",
       "      <td>34.19</td>\n",
       "      <td>15</td>\n",
       "      <td>5612</td>\n",
       "      <td>1283</td>\n",
       "      <td>1015</td>\n",
       "      <td>472</td>\n",
       "      <td>1.4936</td>\n",
       "      <td>66900</td>\n",
       "    </tr>\n",
       "    <tr>\n",
       "      <th>1</th>\n",
       "      <td>-114.47</td>\n",
       "      <td>34.40</td>\n",
       "      <td>19</td>\n",
       "      <td>7650</td>\n",
       "      <td>1901</td>\n",
       "      <td>1129</td>\n",
       "      <td>463</td>\n",
       "      <td>1.8200</td>\n",
       "      <td>80100</td>\n",
       "    </tr>\n",
       "    <tr>\n",
       "      <th>2</th>\n",
       "      <td>-114.56</td>\n",
       "      <td>33.69</td>\n",
       "      <td>17</td>\n",
       "      <td>720</td>\n",
       "      <td>174</td>\n",
       "      <td>333</td>\n",
       "      <td>117</td>\n",
       "      <td>1.6509</td>\n",
       "      <td>85700</td>\n",
       "    </tr>\n",
       "    <tr>\n",
       "      <th>3</th>\n",
       "      <td>-114.57</td>\n",
       "      <td>33.64</td>\n",
       "      <td>14</td>\n",
       "      <td>1501</td>\n",
       "      <td>337</td>\n",
       "      <td>515</td>\n",
       "      <td>226</td>\n",
       "      <td>3.1917</td>\n",
       "      <td>73400</td>\n",
       "    </tr>\n",
       "    <tr>\n",
       "      <th>4</th>\n",
       "      <td>-114.57</td>\n",
       "      <td>33.57</td>\n",
       "      <td>20</td>\n",
       "      <td>1454</td>\n",
       "      <td>326</td>\n",
       "      <td>624</td>\n",
       "      <td>262</td>\n",
       "      <td>1.9250</td>\n",
       "      <td>65500</td>\n",
       "    </tr>\n",
       "    <tr>\n",
       "      <th>...</th>\n",
       "      <td>...</td>\n",
       "      <td>...</td>\n",
       "      <td>...</td>\n",
       "      <td>...</td>\n",
       "      <td>...</td>\n",
       "      <td>...</td>\n",
       "      <td>...</td>\n",
       "      <td>...</td>\n",
       "      <td>...</td>\n",
       "    </tr>\n",
       "    <tr>\n",
       "      <th>16995</th>\n",
       "      <td>-124.26</td>\n",
       "      <td>40.58</td>\n",
       "      <td>52</td>\n",
       "      <td>2217</td>\n",
       "      <td>394</td>\n",
       "      <td>907</td>\n",
       "      <td>369</td>\n",
       "      <td>2.3571</td>\n",
       "      <td>111400</td>\n",
       "    </tr>\n",
       "    <tr>\n",
       "      <th>16996</th>\n",
       "      <td>-124.27</td>\n",
       "      <td>40.69</td>\n",
       "      <td>36</td>\n",
       "      <td>2349</td>\n",
       "      <td>528</td>\n",
       "      <td>1194</td>\n",
       "      <td>465</td>\n",
       "      <td>2.5179</td>\n",
       "      <td>79000</td>\n",
       "    </tr>\n",
       "    <tr>\n",
       "      <th>16997</th>\n",
       "      <td>-124.30</td>\n",
       "      <td>41.84</td>\n",
       "      <td>17</td>\n",
       "      <td>2677</td>\n",
       "      <td>531</td>\n",
       "      <td>1244</td>\n",
       "      <td>456</td>\n",
       "      <td>3.0313</td>\n",
       "      <td>103600</td>\n",
       "    </tr>\n",
       "    <tr>\n",
       "      <th>16998</th>\n",
       "      <td>-124.30</td>\n",
       "      <td>41.80</td>\n",
       "      <td>19</td>\n",
       "      <td>2672</td>\n",
       "      <td>552</td>\n",
       "      <td>1298</td>\n",
       "      <td>478</td>\n",
       "      <td>1.9797</td>\n",
       "      <td>85800</td>\n",
       "    </tr>\n",
       "    <tr>\n",
       "      <th>16999</th>\n",
       "      <td>-124.35</td>\n",
       "      <td>40.54</td>\n",
       "      <td>52</td>\n",
       "      <td>1820</td>\n",
       "      <td>300</td>\n",
       "      <td>806</td>\n",
       "      <td>270</td>\n",
       "      <td>3.0147</td>\n",
       "      <td>94600</td>\n",
       "    </tr>\n",
       "  </tbody>\n",
       "</table>\n",
       "<p>17000 rows × 9 columns</p>\n",
       "</div>"
      ],
      "text/plain": [
       "       longitude  latitude  housing_median_age  total_rooms  total_bedrooms  \\\n",
       "0        -114.31     34.19                  15         5612            1283   \n",
       "1        -114.47     34.40                  19         7650            1901   \n",
       "2        -114.56     33.69                  17          720             174   \n",
       "3        -114.57     33.64                  14         1501             337   \n",
       "4        -114.57     33.57                  20         1454             326   \n",
       "...          ...       ...                 ...          ...             ...   \n",
       "16995    -124.26     40.58                  52         2217             394   \n",
       "16996    -124.27     40.69                  36         2349             528   \n",
       "16997    -124.30     41.84                  17         2677             531   \n",
       "16998    -124.30     41.80                  19         2672             552   \n",
       "16999    -124.35     40.54                  52         1820             300   \n",
       "\n",
       "       population  households  median_income  median_house_value  \n",
       "0            1015         472         1.4936               66900  \n",
       "1            1129         463         1.8200               80100  \n",
       "2             333         117         1.6509               85700  \n",
       "3             515         226         3.1917               73400  \n",
       "4             624         262         1.9250               65500  \n",
       "...           ...         ...            ...                 ...  \n",
       "16995         907         369         2.3571              111400  \n",
       "16996        1194         465         2.5179               79000  \n",
       "16997        1244         456         3.0313              103600  \n",
       "16998        1298         478         1.9797               85800  \n",
       "16999         806         270         3.0147               94600  \n",
       "\n",
       "[17000 rows x 9 columns]"
      ]
     },
     "execution_count": 88,
     "metadata": {},
     "output_type": "execute_result"
    }
   ],
   "source": [
    "import pandas as pd\n",
    "import numpy as np\n",
    "import matplotlib.pyplot as plt\n",
    "\n",
    "df=pd.read_csv(\"california_housing_train.csv\")\n",
    "print(\"Representation of the data: \")\n",
    "df\n"
   ]
  },
  {
   "cell_type": "code",
   "execution_count": null,
   "id": "a64697fb",
   "metadata": {},
   "outputs": [
    {
     "data": {
      "text/plain": [
       "longitude            -0.114250\n",
       "latitude              0.016454\n",
       "housing_median_age    1.000000\n",
       "total_rooms          -0.360984\n",
       "total_bedrooms       -0.320434\n",
       "population           -0.295890\n",
       "households           -0.302754\n",
       "median_income        -0.115932\n",
       "median_house_value    0.106758\n",
       "Name: housing_median_age, dtype: float64"
      ]
     },
     "execution_count": 89,
     "metadata": {},
     "output_type": "execute_result"
    }
   ],
   "source": [
    "df.corr()['housing_median_age'] #for a specific feature\n",
    "\n",
    "#using df.corr() for a correlation matrix\n",
    "# df.corr() #for the correlation \n",
    "# plt.scatter(df.housing_median_age,df.total_rooms)"
   ]
  },
  {
   "cell_type": "code",
   "execution_count": null,
   "id": "a2e325c6",
   "metadata": {},
   "outputs": [
    {
     "data": {
      "text/html": [
       "<div>\n",
       "<style scoped>\n",
       "    .dataframe tbody tr th:only-of-type {\n",
       "        vertical-align: middle;\n",
       "    }\n",
       "\n",
       "    .dataframe tbody tr th {\n",
       "        vertical-align: top;\n",
       "    }\n",
       "\n",
       "    .dataframe thead th {\n",
       "        text-align: right;\n",
       "    }\n",
       "</style>\n",
       "<table border=\"1\" class=\"dataframe\">\n",
       "  <thead>\n",
       "    <tr style=\"text-align: right;\">\n",
       "      <th></th>\n",
       "      <th>total_rooms</th>\n",
       "      <th>population</th>\n",
       "      <th>households</th>\n",
       "      <th>bedrooms</th>\n",
       "    </tr>\n",
       "  </thead>\n",
       "  <tbody>\n",
       "    <tr>\n",
       "      <th>0</th>\n",
       "      <td>5612</td>\n",
       "      <td>1015</td>\n",
       "      <td>472</td>\n",
       "      <td>1283</td>\n",
       "    </tr>\n",
       "    <tr>\n",
       "      <th>1</th>\n",
       "      <td>7650</td>\n",
       "      <td>1129</td>\n",
       "      <td>463</td>\n",
       "      <td>1901</td>\n",
       "    </tr>\n",
       "    <tr>\n",
       "      <th>2</th>\n",
       "      <td>720</td>\n",
       "      <td>333</td>\n",
       "      <td>117</td>\n",
       "      <td>174</td>\n",
       "    </tr>\n",
       "    <tr>\n",
       "      <th>3</th>\n",
       "      <td>1501</td>\n",
       "      <td>515</td>\n",
       "      <td>226</td>\n",
       "      <td>337</td>\n",
       "    </tr>\n",
       "    <tr>\n",
       "      <th>4</th>\n",
       "      <td>1454</td>\n",
       "      <td>624</td>\n",
       "      <td>262</td>\n",
       "      <td>326</td>\n",
       "    </tr>\n",
       "    <tr>\n",
       "      <th>...</th>\n",
       "      <td>...</td>\n",
       "      <td>...</td>\n",
       "      <td>...</td>\n",
       "      <td>...</td>\n",
       "    </tr>\n",
       "    <tr>\n",
       "      <th>16995</th>\n",
       "      <td>2217</td>\n",
       "      <td>907</td>\n",
       "      <td>369</td>\n",
       "      <td>394</td>\n",
       "    </tr>\n",
       "    <tr>\n",
       "      <th>16996</th>\n",
       "      <td>2349</td>\n",
       "      <td>1194</td>\n",
       "      <td>465</td>\n",
       "      <td>528</td>\n",
       "    </tr>\n",
       "    <tr>\n",
       "      <th>16997</th>\n",
       "      <td>2677</td>\n",
       "      <td>1244</td>\n",
       "      <td>456</td>\n",
       "      <td>531</td>\n",
       "    </tr>\n",
       "    <tr>\n",
       "      <th>16998</th>\n",
       "      <td>2672</td>\n",
       "      <td>1298</td>\n",
       "      <td>478</td>\n",
       "      <td>552</td>\n",
       "    </tr>\n",
       "    <tr>\n",
       "      <th>16999</th>\n",
       "      <td>1820</td>\n",
       "      <td>806</td>\n",
       "      <td>270</td>\n",
       "      <td>300</td>\n",
       "    </tr>\n",
       "  </tbody>\n",
       "</table>\n",
       "<p>17000 rows × 4 columns</p>\n",
       "</div>"
      ],
      "text/plain": [
       "       total_rooms  population  households  bedrooms\n",
       "0             5612        1015         472      1283\n",
       "1             7650        1129         463      1901\n",
       "2              720         333         117       174\n",
       "3             1501         515         226       337\n",
       "4             1454         624         262       326\n",
       "...            ...         ...         ...       ...\n",
       "16995         2217         907         369       394\n",
       "16996         2349        1194         465       528\n",
       "16997         2677        1244         456       531\n",
       "16998         2672        1298         478       552\n",
       "16999         1820         806         270       300\n",
       "\n",
       "[17000 rows x 4 columns]"
      ]
     },
     "execution_count": 91,
     "metadata": {},
     "output_type": "execute_result"
    }
   ],
   "source": [
    "bedroom=df['total_bedrooms']\n",
    "df=df.drop(['longitude','latitude','housing_median_age','median_income','median_house_value','total_bedrooms'],axis=1)\n",
    "df"
   ]
  },
  {
   "cell_type": "code",
   "execution_count": 150,
   "id": "f148a79d",
   "metadata": {},
   "outputs": [
    {
     "data": {
      "text/plain": [
       "total_rooms    0.928403\n",
       "population     0.881169\n",
       "households     0.980920\n",
       "bedrooms       1.000000\n",
       "Name: bedrooms, dtype: float64"
      ]
     },
     "execution_count": 150,
     "metadata": {},
     "output_type": "execute_result"
    }
   ],
   "source": [
    "df.corr()['bedrooms']"
   ]
  },
  {
   "cell_type": "code",
   "execution_count": 95,
   "id": "c8f2f938",
   "metadata": {},
   "outputs": [
    {
     "data": {
      "text/plain": [
       "Text(0, 0.5, 'BedRooms')"
      ]
     },
     "execution_count": 95,
     "metadata": {},
     "output_type": "execute_result"
    },
    {
     "data": {
      "image/png": "[encoded data removed]",
      "text/plain": [
       "<Figure size 640x480 with 1 Axes>"
      ]
     },
     "metadata": {},
     "output_type": "display_data"
    }
   ],
   "source": [
    "plt.scatter(df.total_rooms,df.bedrooms)\n",
    "plt.xlabel(\"Total Rooms\")\n",
    "plt.ylabel(\"BedRooms\")"
   ]
  },
  {
   "cell_type": "code",
   "execution_count": 94,
   "id": "0ec05b1b",
   "metadata": {},
   "outputs": [
    {
     "data": {
      "text/plain": [
       "Text(0, 0.5, 'BedRooms')"
      ]
     },
     "execution_count": 94,
     "metadata": {},
     "output_type": "execute_result"
    },
    {
     "data": {
      "image/png": "[encoded data removed]",
      "text/plain": [
       "<Figure size 640x480 with 1 Axes>"
      ]
     },
     "metadata": {},
     "output_type": "display_data"
    }
   ],
   "source": [
    "plt.scatter(df.population,df.bedrooms)\n",
    "plt.xlabel(\"Population\")\n",
    "plt.ylabel(\"BedRooms\")"
   ]
  },
  {
   "cell_type": "code",
   "execution_count": 98,
   "id": "86b49f6e",
   "metadata": {},
   "outputs": [
    {
     "data": {
      "text/plain": [
       "Text(0, 0.5, 'BedRooms')"
      ]
     },
     "execution_count": 98,
     "metadata": {},
     "output_type": "execute_result"
    },
    {
     "data": {
      "image/png": "[encoded data removed]",
      "text/plain": [
       "<Figure size 640x480 with 1 Axes>"
      ]
     },
     "metadata": {},
     "output_type": "display_data"
    }
   ],
   "source": [
    "plt.scatter(df.households,df.bedrooms)\n",
    "plt.xlabel(\"Households\")\n",
    "plt.ylabel(\"BedRooms\")"
   ]
  },
  {
   "cell_type": "code",
   "execution_count": null,
   "id": "f854df2c",
   "metadata": {},
   "outputs": [
    {
     "data": {
      "text/plain": [
       "(17000, 4)"
      ]
     },
     "execution_count": 108,
     "metadata": {},
     "output_type": "execute_result"
    }
   ],
   "source": [
    "'''we want to prove that Bedrooms is some linear function of Total Rooms, Population and Households'''\n",
    "#we start by comverting it tonumpy\n",
    "df_np=df.to_numpy() #converting a pandas df to a numpy shape\n",
    "df_np.shape #to access dimensions of the data"
   ]
  },
  {
   "cell_type": "code",
   "execution_count": 110,
   "id": "db53ead5",
   "metadata": {},
   "outputs": [
    {
     "data": {
      "text/plain": [
       "array([[5612, 1015,  472],\n",
       "       [7650, 1129,  463],\n",
       "       [ 720,  333,  117],\n",
       "       ...,\n",
       "       [2677, 1244,  456],\n",
       "       [2672, 1298,  478],\n",
       "       [1820,  806,  270]], shape=(17000, 3))"
      ]
     },
     "execution_count": 110,
     "metadata": {},
     "output_type": "execute_result"
    }
   ],
   "source": [
    "X_train,Y_train=df_np[:,:3],df_np[:,-1]\n",
    "X_train\n"
   ]
  },
  {
   "cell_type": "code",
   "execution_count": 111,
   "id": "a81c40ea",
   "metadata": {},
   "outputs": [
    {
     "data": {
      "text/plain": [
       "array([1283, 1901,  174, ...,  531,  552,  300], shape=(17000,))"
      ]
     },
     "execution_count": 111,
     "metadata": {},
     "output_type": "execute_result"
    }
   ],
   "source": [
    "Y_train"
   ]
  },
  {
   "cell_type": "code",
   "execution_count": null,
   "id": "79d7b10d",
   "metadata": {},
   "outputs": [
    {
     "data": {
      "text/plain": [
       "array([631.82986004, 693.11956219, 130.849378  , ..., 502.56126019,\n",
       "       522.07260277, 304.4499167 ], shape=(17000,))"
      ]
     },
     "execution_count": 114,
     "metadata": {},
     "output_type": "execute_result"
    }
   ],
   "source": [
    "'''using sklearn to see the standard method on how its done'''\n",
    "from sklearn.linear_model import LinearRegression\n",
    "sklearn_model=LinearRegression().fit(X_train,Y_train)\n",
    "Y_predictions=sklearn_model.predict(X_train)\n",
    "Y_predictions #returns a np_array of values"
   ]
  },
  {
   "cell_type": "code",
   "execution_count": 115,
   "id": "006ea6bd",
   "metadata": {},
   "outputs": [
    {
     "data": {
      "text/plain": [
       "(39.672217650706635, 5650.631822167879)"
      ]
     },
     "execution_count": 115,
     "metadata": {},
     "output_type": "execute_result"
    }
   ],
   "source": [
    "from sklearn.metrics import mean_absolute_error,mean_squared_error\n",
    "mean_absolute_error(Y_predictions,Y_train),mean_squared_error(Y_predictions,Y_train)"
   ]
  },
  {
   "cell_type": "code",
   "execution_count": 118,
   "id": "a4d4d17f",
   "metadata": {},
   "outputs": [
    {
     "data": {
      "text/plain": [
       "'One thing we can analyse from this is that the model does trash predictions from the start but towards the end it gets very accurate'"
      ]
     },
     "execution_count": 118,
     "metadata": {},
     "output_type": "execute_result"
    }
   ],
   "source": [
    "predicted_df=pd.DataFrame({'Population: ':df['population'],\n",
    "                           'Households: ':df['households'],\n",
    "                           'Total_Rooms': df['total_rooms'],\n",
    "                           'Total_Bedrooms':df['bedrooms'],\n",
    "                           \"Bedroom Predictions\": Y_predictions})\n",
    "predicted_df\n",
    "'''One thing we can analyse from this is that the model does trash predictions from the start but towards the end it gets very accurate'''"
   ]
  },
  {
   "cell_type": "code",
   "execution_count": 119,
   "id": "172d9e9e",
   "metadata": {},
   "outputs": [
    {
     "data": {
      "text/plain": [
       "'y^[i]= alpha^ + (beta_1^ * x_1[i]) + (beta_2^ * x_2[i]) + (beta_3^ * x_3[i])'"
      ]
     },
     "execution_count": 119,
     "metadata": {},
     "output_type": "execute_result"
    }
   ],
   "source": [
    "'''Assuming our function total_bedrooms is a linear function of the three categories: population, households and total_rooms'''\n",
    "'''we can get a function in terms of y as: y[i]= alpha + beta1*population[i]+beta2*households[i]+beta3*total_rooms[i]+error'''\n",
    "#in terms of X and Y it will be:\n",
    "'''Generally: y[i]=alpha+ (beta1*x_1[i]) + beta2*x_2[i] + beta3*x_3[i] + error'''\n",
    "# SO our prediction model will be: (^ meants hat representing the prediction model)\n",
    "'''y^[i]= alpha^ + (beta_1^ * x_1[i]) + (beta_2^ * x_2[i]) + (beta_3^ * x_3[i])'''\n",
    "#the learnable parameters here are: alpha^, beta_1^, beta_2^ and beta_3^ ...."
   ]
  },
  {
   "cell_type": "code",
   "execution_count": 124,
   "id": "eaa9d9b9",
   "metadata": {},
   "outputs": [
    {
     "data": {
      "text/plain": [
       "(17000,)"
      ]
     },
     "execution_count": 124,
     "metadata": {},
     "output_type": "execute_result"
    }
   ],
   "source": [
    "def get_predictions(model, X): \n",
    "    '''# Obtain Predictions for the given model and inputs\\n\n",
    "    The model here is a np.array of floats with p parameters (where p-1 are from input where the alpha term is not included) \\n\n",
    "    X is a np.array with shape (n,p-1) of inputs\n",
    "    # returns: (y^) np.array of floats with shape (n,) '''\n",
    "    \n",
    "    (n,p_minus_one)=X.shape\n",
    "    p=p_minus_one+1\n",
    "    new_X=np.ones(shape=(n,p))\n",
    "    new_X[:,1:]=X\n",
    "    \n",
    "    #performing and returning the dot product:\n",
    "    return np.dot(new_X,model)\n",
    "test_model=np.array([1,2,1,4])\n",
    "get_predictions(test_model,X_train).shape\n"
   ]
  },
  {
   "cell_type": "code",
   "execution_count": 164,
   "id": "84f03ae1",
   "metadata": {},
   "outputs": [
    {
     "data": {
      "text/plain": [
       "8183.379705882353"
      ]
     },
     "execution_count": 164,
     "metadata": {},
     "output_type": "execute_result"
    }
   ],
   "source": [
    "predicted_df['random_prediction']=get_predictions(test_model,X_train)\n",
    "predicted_df\n",
    "#testing the model on the current(random) predictions\n",
    "mean_absolute_error(predicted_df['random_prediction'], Y_train)\n"
   ]
  },
  {
   "cell_type": "code",
   "execution_count": null,
   "id": "682fd2e2",
   "metadata": {},
   "outputs": [
    {
     "data": {
      "text/html": [
       "<div>\n",
       "<style scoped>\n",
       "    .dataframe tbody tr th:only-of-type {\n",
       "        vertical-align: middle;\n",
       "    }\n",
       "\n",
       "    .dataframe tbody tr th {\n",
       "        vertical-align: top;\n",
       "    }\n",
       "\n",
       "    .dataframe thead th {\n",
       "        text-align: right;\n",
       "    }\n",
       "</style>\n",
       "<table border=\"1\" class=\"dataframe\">\n",
       "  <thead>\n",
       "    <tr style=\"text-align: right;\">\n",
       "      <th></th>\n",
       "      <th>Population:</th>\n",
       "      <th>Households:</th>\n",
       "      <th>Total_Rooms</th>\n",
       "      <th>Total_Bedrooms</th>\n",
       "      <th>ScikitLearn_Predictions</th>\n",
       "      <th>random_prediction</th>\n",
       "      <th>Closed_form_model_Predictions</th>\n",
       "    </tr>\n",
       "  </thead>\n",
       "  <tbody>\n",
       "    <tr>\n",
       "      <th>0</th>\n",
       "      <td>1015</td>\n",
       "      <td>472</td>\n",
       "      <td>5612</td>\n",
       "      <td>1283</td>\n",
       "      <td>631.829860</td>\n",
       "      <td>14128.0</td>\n",
       "      <td>631.829860</td>\n",
       "    </tr>\n",
       "    <tr>\n",
       "      <th>1</th>\n",
       "      <td>1129</td>\n",
       "      <td>463</td>\n",
       "      <td>7650</td>\n",
       "      <td>1901</td>\n",
       "      <td>693.119562</td>\n",
       "      <td>18282.0</td>\n",
       "      <td>693.119562</td>\n",
       "    </tr>\n",
       "    <tr>\n",
       "      <th>2</th>\n",
       "      <td>333</td>\n",
       "      <td>117</td>\n",
       "      <td>720</td>\n",
       "      <td>174</td>\n",
       "      <td>130.849378</td>\n",
       "      <td>2242.0</td>\n",
       "      <td>130.849378</td>\n",
       "    </tr>\n",
       "    <tr>\n",
       "      <th>3</th>\n",
       "      <td>515</td>\n",
       "      <td>226</td>\n",
       "      <td>1501</td>\n",
       "      <td>337</td>\n",
       "      <td>259.462982</td>\n",
       "      <td>4422.0</td>\n",
       "      <td>259.462982</td>\n",
       "    </tr>\n",
       "    <tr>\n",
       "      <th>4</th>\n",
       "      <td>624</td>\n",
       "      <td>262</td>\n",
       "      <td>1454</td>\n",
       "      <td>326</td>\n",
       "      <td>289.315311</td>\n",
       "      <td>4581.0</td>\n",
       "      <td>289.315311</td>\n",
       "    </tr>\n",
       "    <tr>\n",
       "      <th>...</th>\n",
       "      <td>...</td>\n",
       "      <td>...</td>\n",
       "      <td>...</td>\n",
       "      <td>...</td>\n",
       "      <td>...</td>\n",
       "      <td>...</td>\n",
       "      <td>...</td>\n",
       "    </tr>\n",
       "    <tr>\n",
       "      <th>16995</th>\n",
       "      <td>907</td>\n",
       "      <td>369</td>\n",
       "      <td>2217</td>\n",
       "      <td>394</td>\n",
       "      <td>412.047168</td>\n",
       "      <td>6818.0</td>\n",
       "      <td>412.047168</td>\n",
       "    </tr>\n",
       "    <tr>\n",
       "      <th>16996</th>\n",
       "      <td>1194</td>\n",
       "      <td>465</td>\n",
       "      <td>2349</td>\n",
       "      <td>528</td>\n",
       "      <td>501.086730</td>\n",
       "      <td>7753.0</td>\n",
       "      <td>501.086730</td>\n",
       "    </tr>\n",
       "    <tr>\n",
       "      <th>16997</th>\n",
       "      <td>1244</td>\n",
       "      <td>456</td>\n",
       "      <td>2677</td>\n",
       "      <td>531</td>\n",
       "      <td>502.561260</td>\n",
       "      <td>8423.0</td>\n",
       "      <td>502.561260</td>\n",
       "    </tr>\n",
       "    <tr>\n",
       "      <th>16998</th>\n",
       "      <td>1298</td>\n",
       "      <td>478</td>\n",
       "      <td>2672</td>\n",
       "      <td>552</td>\n",
       "      <td>522.072603</td>\n",
       "      <td>8555.0</td>\n",
       "      <td>522.072603</td>\n",
       "    </tr>\n",
       "    <tr>\n",
       "      <th>16999</th>\n",
       "      <td>806</td>\n",
       "      <td>270</td>\n",
       "      <td>1820</td>\n",
       "      <td>300</td>\n",
       "      <td>304.449917</td>\n",
       "      <td>5527.0</td>\n",
       "      <td>304.449917</td>\n",
       "    </tr>\n",
       "  </tbody>\n",
       "</table>\n",
       "<p>17000 rows × 7 columns</p>\n",
       "</div>"
      ],
      "text/plain": [
       "       Population:   Households:   Total_Rooms  Total_Bedrooms  \\\n",
       "0              1015           472         5612            1283   \n",
       "1              1129           463         7650            1901   \n",
       "2               333           117          720             174   \n",
       "3               515           226         1501             337   \n",
       "4               624           262         1454             326   \n",
       "...             ...           ...          ...             ...   \n",
       "16995           907           369         2217             394   \n",
       "16996          1194           465         2349             528   \n",
       "16997          1244           456         2677             531   \n",
       "16998          1298           478         2672             552   \n",
       "16999           806           270         1820             300   \n",
       "\n",
       "       ScikitLearn_Predictions  random_prediction  \\\n",
       "0                   631.829860            14128.0   \n",
       "1                   693.119562            18282.0   \n",
       "2                   130.849378             2242.0   \n",
       "3                   259.462982             4422.0   \n",
       "4                   289.315311             4581.0   \n",
       "...                        ...                ...   \n",
       "16995               412.047168             6818.0   \n",
       "16996               501.086730             7753.0   \n",
       "16997               502.561260             8423.0   \n",
       "16998               522.072603             8555.0   \n",
       "16999               304.449917             5527.0   \n",
       "\n",
       "       Closed_form_model_Predictions  \n",
       "0                         631.829860  \n",
       "1                         693.119562  \n",
       "2                         130.849378  \n",
       "3                         259.462982  \n",
       "4                         289.315311  \n",
       "...                              ...  \n",
       "16995                     412.047168  \n",
       "16996                     501.086730  \n",
       "16997                     502.561260  \n",
       "16998                     522.072603  \n",
       "16999                     304.449917  \n",
       "\n",
       "[17000 rows x 7 columns]"
      ]
     },
     "execution_count": 179,
     "metadata": {},
     "output_type": "execute_result"
    }
   ],
   "source": [
    "from numpy.linalg import inv\n",
    "def get_best_model(X,Y):\n",
    "    '''Works similar to np.fit...\\n\n",
    "    Y is a np.array with shape (n) \\n\n",
    "    X is a np.array with shape (n,p-1) of inputs \\n\n",
    "    returns: (y^) np.array of floats with shape (n,)#'''\n",
    "\n",
    "    (n,p_minus_one)=X.shape\n",
    "    p=p_minus_one+1\n",
    "    new_X=np.ones(shape=(n,p))\n",
    "    new_X[:,1:]=X\n",
    "\n",
    "    #core math lies here\n",
    "    '''w=(X^TX)^-1 X^Ty'''\n",
    "    #this is derived from MSE formula with evaluation for Gradiient=0 and solving for W\n",
    "    dot_prod=np.dot(new_X.T, new_X)\n",
    "    inverse_dp=inv(dot_prod)\n",
    "    XT_dp=np.dot(inverse_dp,new_X.T)\n",
    "    ans=np.dot(XT_dp,Y)\n",
    "    #in one line: np.dot(np.dot(inv(np.dot(new_X.T, new_X)), new_X.T), y)\n",
    "    return ans\n",
    "\n",
    "best_model = get_best_model(X_train, Y_train)\n",
    "alpha,b1,b2,b3=best_model\n",
    "predicted_df['Closed_form_model_Predictions'] = get_predictions(best_model, X_train)\n",
    "predicted_df"
   ]
  },
  {
   "cell_type": "code",
   "execution_count": null,
   "id": "76b6b83f",
   "metadata": {},
   "outputs": [
    {
     "data": {
      "text/plain": [
       "(39.67221765070642, 5650.631822167878)"
      ]
     },
     "execution_count": 129,
     "metadata": {},
     "output_type": "execute_result"
    }
   ],
   "source": [
    "mean_absolute_error(predicted_df['Closed_form_model_Predictions'], Y_train), mean_squared_error(predicted_df['Closed_form_model_Predictions'], Y_train)\n",
    "#from8183"
   ]
  },
  {
   "cell_type": "code",
   "execution_count": 180,
   "id": "5c040ce4",
   "metadata": {},
   "outputs": [
    {
     "data": {
      "text/plain": [
       "Text(0, 0.5, 'Bedrooms (Black for Model, Red for Actual)')"
      ]
     },
     "execution_count": 180,
     "metadata": {},
     "output_type": "execute_result"
    },
    {
     "data": {
      "image/png": "[encoded data removed]",
      "text/plain": [
       "<Figure size 640x480 with 1 Axes>"
      ]
     },
     "metadata": {},
     "output_type": "display_data"
    }
   ],
   "source": [
    "plt.scatter(predicted_df['Households: '],predicted_df['Total_Bedrooms'],color=\"red\")\n",
    "\n",
    "plt.scatter(predicted_df['Households: '],predicted_df['Closed_form_model_Predictions'],color=\"Black\")\n",
    "plt.xlabel(\"Households\")\n",
    "plt.ylabel(\"Bedrooms (Black for Model, Red for Actual)\")"
   ]
  },
  {
   "cell_type": "code",
   "execution_count": 155,
   "id": "338dc9d6",
   "metadata": {},
   "outputs": [
    {
     "name": "stdout",
     "output_type": "stream",
     "text": [
      "Conclusions: Based on the correlation matrix, we saw that Household (0.980) had the highest correlations, \n",
      "      Followed By total rooms (0.928) and finally the population(0.88). \n"
     ]
    },
    {
     "data": {
      "text/plain": [
       "total_rooms    0.928403\n",
       "population     0.881169\n",
       "households     0.980920\n",
       "bedrooms       1.000000\n",
       "Name: bedrooms, dtype: float64"
      ]
     },
     "execution_count": 155,
     "metadata": {},
     "output_type": "execute_result"
    }
   ],
   "source": [
    "print('''Conclusions: Based on the correlation matrix, we saw that Household (0.980) had the highest correlations, \n",
    "      Followed By total rooms (0.928) and finally the population(0.88). ''')\n",
    "df.corr()['bedrooms']\n"
   ]
  },
  {
   "cell_type": "code",
   "execution_count": 156,
   "id": "c7d3f1e3",
   "metadata": {},
   "outputs": [
    {
     "name": "stdout",
     "output_type": "stream",
     "text": [
      "This reflects in our models predictions for the weights and bias of the model as \n",
      "Alpha: 1.5497, Beta1(Total Rooms): 0.0362, Beta2(Population): -0.0325, Beta3(Households): 0.9748\n"
     ]
    }
   ],
   "source": [
    "print('''This reflects in our models predictions for the weights and bias of the model as ''')\n",
    "print(f\"Alpha: {alpha:.4f}, Beta1(Total Rooms): {b1:.4f}, Beta2(Population): {b2:.4f}, Beta3(Households): {b3:.4f}\")"
   ]
  },
  {
   "cell_type": "code",
   "execution_count": null,
   "id": "e7298d2d",
   "metadata": {},
   "outputs": [
    {
     "name": "stdout",
     "output_type": "stream",
     "text": [
      "Hence we can say that our model has done a good job in predicting the number of bedrooms for this dataset. \n"
     ]
    }
   ],
   "source": [
    "print(\"Hence we can say that our model has done a good job in predicting the number of bedrooms for this dataset. \")\n"
   ]
  },
  {
   "cell_type": "code",
   "execution_count": 182,
   "id": "bf1359ac",
   "metadata": {},
   "outputs": [
    {
     "name": "stdout",
     "output_type": "stream",
     "text": [
      "It has achieved a Mean absolute error of 39.6722 on this dataset...\n"
     ]
    }
   ],
   "source": [
    "print(\"It has achieved a Mean absolute error of 39.6722 on this dataset...\") "
   ]
  },
  {
   "cell_type": "code",
   "execution_count": null,
   "id": "429af3c2",
   "metadata": {},
   "outputs": [],
   "source": []
  }
 ],
 "metadata": {
  "kernelspec": {
   "display_name": ".venv",
   "language": "python",
   "name": "python3"
  },
  "language_info": {
   "codemirror_mode": {
    "name": "ipython",
    "version": 3
   },
   "file_extension": ".py",
   "mimetype": "text/x-python",
   "name": "python",
   "nbconvert_exporter": "python",
   "pygments_lexer": "ipython3",
   "version": "3.12.1"
  }
 },
 "nbformat": 4,
 "nbformat_minor": 5
}
